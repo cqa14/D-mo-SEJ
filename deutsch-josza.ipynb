{
 "cells": [
  {
   "cell_type": "code",
   "execution_count": 56,
   "metadata": {},
   "outputs": [],
   "source": [
    "from qiskit import *\n",
    "simulator = Aer.get_backend('qasm_simulator')"
   ]
  },
  {
   "cell_type": "markdown",
   "metadata": {},
   "source": [
    "# Algorithme de Deutsch-Josza\n",
    "\n",
    "C'est le premier algorithme présentatn un avantage d'un ordinateur quantique sur son équivalent classique. Il vise à résoudre un problème bien précis ce qui le rend inutile outre sa fonction de démonstration.\n",
    "\n",
    "## Le problème\n",
    "\n",
    "On a une fonction $f : \\{0,1\\}^n \\longrightarrow \\{0,1\\}$, qui prend $n$ bits en entrées et en sort un en sortie. De plus, cette fonction est soit constante, soit équilibrée, donc soit toute les entrées donne la même sortie, soit la moitié donne 0 et l'autre 1. Le défi et de déterminer si l'on a une fonction de ce type quelle est sont comportement.\n",
    "\n",
    "## Les solutions\n",
    "\n",
    "### Classique\n",
    "\n",
    "De manière classique, pour être sûr du type de la fonction, nous devons tester la moitié des entrées plus une. Nous devons donc appliqué notre fonction pour un nombre d'entrée $N=2^n$, $N/2+1 = 2^{n-1}+1$ fois. On voit donc que cela grossit exponentiellement au nombre de bits considéré."
   ]
  },
  {
   "cell_type": "code",
   "execution_count": 57,
   "metadata": {},
   "outputs": [],
   "source": [
    "def cst_class(bits:str):\n",
    "    \"\"\"\n",
    "    bits de la forme '0110001'\n",
    "\n",
    "    Retourne toujours la même valeur\n",
    "    \"\"\"\n",
    "    valeur = 0\n",
    "    return valeur"
   ]
  },
  {
   "cell_type": "code",
   "execution_count": 58,
   "metadata": {},
   "outputs": [],
   "source": [
    "def equ_class(bits:str):\n",
    "    \"\"\"\n",
    "    bits de la forme '0110001'\n",
    "\n",
    "    Retourne 0 pour la moitié des bits, 1 pour l'autre moitié\n",
    "    \"\"\"\n",
    "    if bits[0] == '0':\n",
    "        return 0\n",
    "    else:\n",
    "        return 1"
   ]
  },
  {
   "cell_type": "code",
   "execution_count": 59,
   "metadata": {},
   "outputs": [],
   "source": [
    "def solve_class(fun, n_bits):\n",
    "    \"\"\"\n",
    "    fun : fonction à tester\n",
    "    n_bits : nombre de bits de l'entrée\n",
    "\n",
    "    Affiche si la fonction est constante ou équilibrée\n",
    "    \"\"\"\n",
    "    prec_res = -1\n",
    "    for i in range(int(2**n_bits / 2 + 1)):\n",
    "        bit = bin(i)[2:].zfill(n_bits)\n",
    "        if prec_res == -1:\n",
    "            prec_res = fun(bit)\n",
    "        else:\n",
    "            if prec_res != fun(bit):\n",
    "                print(\"La fonction est équilibrée\")\n",
    "                return\n",
    "    print(\"La fonction est constante\")"
   ]
  },
  {
   "cell_type": "code",
   "execution_count": 60,
   "metadata": {},
   "outputs": [
    {
     "name": "stdout",
     "output_type": "stream",
     "text": [
      "----------------Fonction constante----------------\n",
      "La fonction est constante\n",
      "---------------Fonction équilibrée----------------\n",
      "La fonction est équilibrée\n"
     ]
    }
   ],
   "source": [
    "print(\"Fonction constante\".center(50, \"-\"))\n",
    "solve_class(cst_class, 7)\n",
    "print(\"Fonction équilibrée\".center(50, \"-\"))\n",
    "solve_class(equ_class, 7)"
   ]
  },
  {
   "cell_type": "markdown",
   "metadata": {},
   "source": [
    "### Quantique\n",
    "\n",
    "De manière quantique, nous pouvons résoudre ce problème de en n'appelant qu'une seule fois la fonction. Pour ce faire nous préparons notre système, exécutons la fonction (que l'on va nommer oracle car elle transforme transforme _output_ dans le résultat de la fonction sur _entry_), appliquons une dernière opération et on mesure."
   ]
  },
  {
   "cell_type": "code",
   "execution_count": 61,
   "metadata": {},
   "outputs": [],
   "source": [
    "N = 3 # Nombre de bits de l'entrée de la fonction\n",
    "entry = QuantumRegister(N, 'entry')\n",
    "output = QuantumRegister(1, 'output')\n",
    "mes = ClassicalRegister(N, 'mes')"
   ]
  },
  {
   "cell_type": "code",
   "execution_count": 62,
   "metadata": {},
   "outputs": [],
   "source": [
    "cst_quantum = QuantumCircuit(entry, output)\n",
    "cst_quantum = cst_quantum.to_gate(label=\"Oracle\")"
   ]
  },
  {
   "cell_type": "code",
   "execution_count": 63,
   "metadata": {},
   "outputs": [],
   "source": [
    "equ_quantum = QuantumCircuit(entry, output)\n",
    "for i in range(N):\n",
    "    equ_quantum.cx(entry[i], output[0])\n",
    "equ_quantum = equ_quantum.to_gate(label=\"Oracle\")"
   ]
  },
  {
   "cell_type": "code",
   "execution_count": 64,
   "metadata": {},
   "outputs": [],
   "source": [
    "def deutsch_jozsa(oracle):\n",
    "    \"\"\"\n",
    "    oracle : fonction à tester\n",
    "\n",
    "    Retourne le circuit quantique de l'algorithme de Deutsch-Jozsa\n",
    "    \"\"\"\n",
    "    dj = QuantumCircuit(entry, output, mes)\n",
    "    dj.x(output)\n",
    "    dj.barrier()\n",
    "    dj.h(entry)\n",
    "    dj.h(output)\n",
    "    dj.append(oracle, [i for i in range(N + 1)])\n",
    "    dj.h(entry)\n",
    "    dj.measure(entry, mes)\n",
    "    return dj"
   ]
  },
  {
   "cell_type": "code",
   "execution_count": 65,
   "metadata": {},
   "outputs": [
    {
     "data": {
      "image/png": "[encoded data removed]",
      "text/plain": [
       "<Figure size 931.072x451.5 with 1 Axes>"
      ]
     },
     "execution_count": 65,
     "metadata": {},
     "output_type": "execute_result"
    }
   ],
   "source": [
    "# Affichage du circuit\n",
    "deutsch_jozsa(cst_quantum).draw(output='mpl')"
   ]
  },
  {
   "cell_type": "code",
   "execution_count": 66,
   "metadata": {},
   "outputs": [
    {
     "name": "stdout",
     "output_type": "stream",
     "text": [
      "----------------Fonction constante----------------\n",
      "{'000': 1000}\n",
      "---------------Fonction équilibrée----------------\n",
      "{'111': 1000}\n"
     ]
    }
   ],
   "source": [
    "print(\"Fonction constante\".center(50, \"-\"))\n",
    "dj_cst = deutsch_jozsa(cst_quantum)\n",
    "results = execute(dj_cst, simulator, shots=1000).result()\n",
    "counts = results.get_counts()\n",
    "print(counts)\n",
    "\n",
    "print(\"Fonction équilibrée\".center(50, \"-\"))\n",
    "dj_equ = deutsch_jozsa(equ_quantum)\n",
    "results = execute(dj_equ, simulator, shots=1000).result()\n",
    "counts = results.get_counts()\n",
    "print(counts)"
   ]
  },
  {
   "cell_type": "markdown",
   "metadata": {},
   "source": [
    "Nous voyons donc que l'algorithme donne 0 pour une fonction constante et 1 pour une équilibrée en un seul appel !\n",
    "\n",
    ">**Démonstration pour $n=1$**\n",
    ">\n",
    ">On commence donc après la barrière avec les qubits dans l'état $\\ket{0}\\ket{1}$, qui\n",
    ">deviennent $\\frac{1}{2}(\\ket{0}+\\ket{1})(\\ket{0}-\\ket{1})$ après l'application de la\n",
    ">première porte d'Hadamard sur chacun des qubits.\n",
    ">Ensuite, on applique l'oracle, qui va modifier les qubits d'entrée en fonction de la\n",
    ">fonction $f$ comme suit :\n",
    ">$$\n",
    ">    \\ket{x}\\ket{y} \\rightarrow \\ket{x}\\ket{f(x) \\oplus y}\n",
    ">$$\n",
    ">En l'appliquant sur le circuit, on obtient :\n",
    ">$$\n",
    ">    \\frac{1}{2}(\\ket{0} (\\ket{f(0) \\oplus 0}-\\ket{f(0) \\oplus 1}) + \\ket{1}(\\ket{f(1) \\oplus 0}-\\ket{f(1) \\oplus 1}))\n",
    ">$$\n",
    ">En séparant les cas, on observe que\n",
    ">$$\n",
    ">    \\begin{cases}\n",
    ">        f(0) = 0 \\Rightarrow f(0) \\oplus 0 = 0 \\text{ et } f(0) \\oplus 1 = 1 \\Rightarrow (\\ket{f(0) \\oplus 0}-\\ket{f(0) \\oplus 1}) = >(\\ket{0}-\\ket{1})\\\\\n",
    ">        f(0) = 1 \\Rightarrow f(0) \\oplus 0 = 1 \\text{ et } f(0) \\oplus 1 = 0 \\Rightarrow (\\ket{f(0) \\oplus 0}-\\ket{f(0) \\oplus 1}) = >(\\ket{1}-\\ket{0}) = -(\\ket{0}-\\ket{1})\n",
    ">    \\end{cases}\n",
    ">$$\n",
    ">et similairement pour $f(1)$.\\\\\n",
    ">On peut donc réécrire $\\ket{f(0) \\oplus 0}-\\ket{f(0) \\oplus 1}$ comme $(-1)^{f(0)}(\\ket{0}-\\ket{1})$\n",
    ">et $\\ket{f(1) \\oplus 0}-\\ket{f(1) \\oplus 1}$ comme $(-1)^{f(1)}(\\ket{0}-\\ket{1})$,\n",
    ">ce qui nous donne :\n",
    ">$$\n",
    ">    \\frac{1}{2}((-1)^{f(0)} \\ket{0} (\\ket{0}-\\ket{1}) + (-1)^{f(1)} \\ket{1}(\\ket{0}-\\ket{1}))\n",
    ">$$\n",
    ">Mettons ensuite $(-1)^{f(0)}$ en évidence, et comme $(-1)^n$ alterne, on peut écrire\n",
    ">$(-1)^{f(1) - f(0)} = (-1)^{f(0) \\oplus f(1)}$, ainsi que $(\\ket{0}-\\ket{1})$ mis en évidence :\n",
    ">$$\n",
    ">    (-1)^{f(0)} \\frac{1}{2} (\\ket{0} + (-1)^{f(0) \\oplus f(1)} \\ket{1})(\\ket{0}-\\ket{1})\n",
    ">$$\n",
    ">L'opérateur $\\oplus$, qui est l'addition modulo 2, est équivalent à l'opérateur XOR, comme évoqué dans la section~\\ref>{ch:un-ordinateur-classique}.\n",
    ">Or, si $f(0) = f(1)$, l'oracle est constant, ce qui est équivalent à dire que $f(0) \\oplus f(1) = 0$.\n",
    ">Essayons donc d'extraire cette information du circuit.\\\\\n",
    ">Pour la suite on ne se soucie plus du qubit de sortie, car on le voit dans l'équation,\n",
    ">ce n'est pas lui qui va nous donner l'information.\n",
    ">De plus, la phase globale $(-1)^{f(0)}$ n'est pas observable, car elle ne change pas\n",
    ">la probabilité de mesure, on peut donc l'ignorer également.\n",
    ">Nous ne soucions donc plus que des qubits d'entrée, et on peut réécrire l'équation\n",
    ">comme suit :\n",
    ">$$\n",
    ">    \\frac{1}{\\sqrt{2}} (\\ket{0} + (-1)^{f(0) \\oplus f(1)} \\ket{1})\n",
    ">$$\n",
    ">qui devient ensuite par la porte d'Hadamard :\n",
    ">$$\n",
    ">    \\frac{1}{2} (\\ket{0} + \\ket{1} + (-1)^{f(0) \\oplus f(1)} \\ket{0} - (-1)^{f(0) \\oplus f(1)} \\ket{1}) = \\frac{1}{2} ((1 + (-1)^{f>(0) \\oplus f(1)}) \\ket{0} + (1 - (-1)^{f(0) \\oplus f(1)}) \\ket{1})\n",
    ">$$\n",
    ">On constate alors que si $f(0) \\oplus f(1) = 0$, alors la probabilité de mesure de\n",
    ">$\\ket{0}$ est de 1, et si $f(0) \\oplus f(1) = 1$, alors la probabilité de mesure de\n",
    ">$\\ket{1}$ est de 1, ainsi, en mesurant le qubit d'entrée, on peut déterminer si\n",
    ">l'oracle est constant ou équilibré.\n",
    "\n",
    "On peut faire une démonstration similaire pour $n$ qubits."
   ]
  }
 ],
 "metadata": {
  "kernelspec": {
   "display_name": "Python 3",
   "language": "python",
   "name": "python3"
  },
  "language_info": {
   "codemirror_mode": {
    "name": "ipython",
    "version": 3
   },
   "file_extension": ".py",
   "mimetype": "text/x-python",
   "name": "python",
   "nbconvert_exporter": "python",
   "pygments_lexer": "ipython3",
   "version": "3.10.4"
  }
 },
 "nbformat": 4,
 "nbformat_minor": 2
}
